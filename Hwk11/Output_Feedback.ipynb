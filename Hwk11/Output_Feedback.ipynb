{
 "cells": [
  {
   "cell_type": "markdown",
   "metadata": {},
   "source": [
    "## Imports"
   ]
  },
  {
   "cell_type": "code",
   "execution_count": 4,
   "metadata": {},
   "outputs": [],
   "source": [
    "import numpy as np\n",
    "import control as ct\n",
    "import scipy as sp\n",
    "import sympy as symp"
   ]
  },
  {
   "cell_type": "markdown",
   "metadata": {},
   "source": [
    "## Hespanha 16.2"
   ]
  },
  {
   "cell_type": "code",
   "execution_count": 5,
   "metadata": {},
   "outputs": [
    {
     "name": "stdout",
     "output_type": "stream",
     "text": [
      "Omega:\n",
      "3\n",
      "⎡k₁ + 1  0    k₁  ⎤\n",
      "⎢                 ⎥\n",
      "⎢k₂ + 1  1    k₂  ⎥\n",
      "⎢                 ⎥\n",
      "⎣k₃ - 2  1  k₃ + 1⎦\n",
      "Determinant:\n",
      "      2                                   2                  3      2         \n",
      "- k₁⋅s  + 4⋅k₁⋅s - 4⋅k₁ - k₂⋅s + k₂ - k₃⋅s  + 2⋅k₃⋅s - k₃ + s  - 3⋅s  + 3⋅s - \n",
      "\n",
      " \n",
      "1\n",
      "- k_{1} s^{2} + 4 k_{1} s - 4 k_{1} - k_{2} s + k_{2} - k_{3} s^{2} + 2 k_{3} s - k_{3} + s^{3} - 3 s^{2} + 3 s - 1\n",
      "Target polynomial Coefficients:\n",
      "[1, 3, 3, 1]\n",
      "Coefficients:\n",
      "[1, -k₁ - k₃ - 3, 4⋅k₁ - k₂ + 2⋅k₃ + 3, -4⋅k₁ + k₂ - k₃ - 1]\n",
      "Solve:\n",
      "⎡         0         ⎤\n",
      "⎢                   ⎥\n",
      "⎢   -k₁ - k₃ - 6    ⎥\n",
      "⎢                   ⎥\n",
      "⎢ 4⋅k₁ - k₂ + 2⋅k₃  ⎥\n",
      "⎢                   ⎥\n",
      "⎣-4⋅k₁ + k₂ - k₃ - 2⎦\n",
      "Solution:\n",
      "{k₁: -8, k₂: -28, k₃: 2}\n",
      "⎡-8 ⎤\n",
      "⎢   ⎥\n",
      "⎢-28⎥\n",
      "⎢   ⎥\n",
      "⎣ 2 ⎦\n",
      "Eigs\n",
      "[-0.99998073+3.33692338e-05j -0.99998073-3.33692338e-05j\n",
      " -1.00003853+0.00000000e+00j]\n",
      "L:\n",
      "[[ 24.] \n",
      " [ 74.] \n",
      " [-15.]]\n"
     ]
    }
   ],
   "source": [
    "A = np.array([\n",
    "    [1, 0, 0],\n",
    "    [1, 1, 0],\n",
    "    [-2, 1, 1]\n",
    "])\n",
    "B = np.array([\n",
    "    [2],\n",
    "    [0],\n",
    "    [0]\n",
    "])\n",
    "C = np.array([\n",
    "    [1, 0, 1]\n",
    "])\n",
    "\n",
    "k_1, k_2, k_3, s = symp.symbols('k_1 k_2 k_3 s')\n",
    "\n",
    "k = symp.Matrix([[k_1], [k_2], [k_3]])\n",
    "\n",
    "omega = ct.obsv(A, C)\n",
    "print(\"Omega:\")\n",
    "print(np.linalg.matrix_rank(omega))\n",
    "\n",
    "res = A + k@C\n",
    "symp.pprint(res)\n",
    "\n",
    "det = symp.det(s*symp.eye(3) - res)\n",
    "\n",
    "print(\"Determinant:\")\n",
    "symp.pprint(det)\n",
    "print(symp.latex(det))\n",
    "poly = symp.Poly(det, s)\n",
    "\n",
    "poly_target = symp.Poly((s+1)*(s+1)*(s+1), s)\n",
    "\n",
    "print(\"Target polynomial Coefficients:\")\n",
    "symp.pprint(poly_target.all_coeffs())\n",
    "\n",
    "print(\"Coefficients:\")\n",
    "symp.pprint(poly.all_coeffs())\n",
    "\n",
    "print(\"Solve:\")\n",
    "solve_matrix = symp.Matrix([first - second for first, second in zip(poly.all_coeffs(), poly_target.all_coeffs())])\n",
    "symp.pprint(solve_matrix)\n",
    "sol = symp.solve(solve_matrix, [k_1, k_2, k_3], dict=True)[0]\n",
    "\n",
    "print(\"Solution:\")\n",
    "symp.pprint(sol)\n",
    "\n",
    "k = symp.Matrix([[sol[k_1]], [sol[k_2]], [sol[k_3]]])\n",
    "symp.pprint(k)\n",
    "\n",
    "k = np.array(k).astype(np.float64)\n",
    "\n",
    "print(\"Eigs\")\n",
    "eigs = np.linalg.eigvals(A + k@C)\n",
    "print(eigs)\n",
    "\n",
    "L = ct.place(A.T, C.T, [-1, -2, -3]).T\n",
    "\n",
    "print(\"L:\")\n",
    "symp.pprint(L)\n",
    "\n"
   ]
  },
  {
   "cell_type": "markdown",
   "metadata": {},
   "source": [
    "## Defining system matrices"
   ]
  },
  {
   "cell_type": "code",
   "execution_count": 6,
   "metadata": {},
   "outputs": [],
   "source": [
    "A = np.array([\n",
    "    [-5, 0, 0],\n",
    "    [0, 3, 0],\n",
    "    [0, 2, 1]\n",
    "])\n",
    "\n",
    "B = np.array([\n",
    "    [0, 0],\n",
    "    [0, 1],\n",
    "    [1, 0]\n",
    "])\n",
    "\n",
    "C = np.array([\n",
    "    [0, 0, 1],\n",
    "    [-1, 0, 0]\n",
    "])"
   ]
  },
  {
   "cell_type": "markdown",
   "metadata": {},
   "source": [
    "## Checking the controllability and observability"
   ]
  },
  {
   "cell_type": "code",
   "execution_count": 7,
   "metadata": {},
   "outputs": [
    {
     "name": "stdout",
     "output_type": "stream",
     "text": [
      "Rank of Gamma: 2\n",
      "Rank of (A - -5.0 * I): 2\n",
      "Rank of (A - 1.0 * I): 3\n",
      "Rank of (A - 3.0 * I): 3\n",
      "Rank of Omega: 3\n"
     ]
    }
   ],
   "source": [
    "gamma = ct.ctrb(A, B)\n",
    "print(f'Rank of Gamma: {np.linalg.matrix_rank(gamma)}')\n",
    "\n",
    "for eig in np.linalg.eigvals(A):\n",
    "    print(f\"Rank of (A - {eig} * I):\", np.linalg.matrix_rank(np.concatenate((A - eig * np.eye(3), B), axis=1)))\n",
    "\n",
    "omega = ct.obsv(A, C)\n",
    "print(f'Rank of Omega: {np.linalg.matrix_rank(omega)}')"
   ]
  },
  {
   "cell_type": "markdown",
   "metadata": {},
   "source": [
    "## Designing the Feedback Matrix"
   ]
  },
  {
   "cell_type": "code",
   "execution_count": 8,
   "metadata": {},
   "outputs": [
    {
     "name": "stdout",
     "output_type": "stream",
     "text": [
      "T:\n",
      "[[0 0 1]\n",
      " [0 1 0]\n",
      " [1 0 0]]\n",
      "Controllable dimension: 2\n",
      "A bar:\n",
      "[[ 1.  2.  0.]\n",
      " [ 0.  3.  0.]\n",
      " [ 0.  0. -5.]]\n",
      "B bar:\n",
      "[[1. 0.]\n",
      " [0. 1.]\n",
      " [0. 0.]]\n",
      "A bar 11:\n",
      "[[1. 2.]\n",
      " [0. 3.]]\n",
      "B bar 1:\n",
      "[[1. 0.]\n",
      " [0. 1.]]\n",
      "x_hat_max:\n",
      "[[1.]\n",
      " [3.]\n",
      " [5.]]\n",
      "Q:\n",
      "[[1.         0.        ]\n",
      " [0.         0.11111111]]\n",
      "K bar:\n",
      "[[4.28913879 1.34746447]\n",
      " [0.13474645 6.0770978 ]]\n",
      "K using decomp:\n",
      "[[0.         1.34746447 4.28913879]\n",
      " [0.         6.0770978  0.13474645]]\n",
      "Eigenvalues of A - BK: [-3.18311829+0.27692327j -3.18311829-0.27692327j -5.        +0.j        ]\n"
     ]
    }
   ],
   "source": [
    "# Constructing the controllablity decomposition transformation matrix\n",
    "T = np.array([\n",
    "    [0, 0, 1],\n",
    "    [0, 1, 0],\n",
    "    [1, 0, 0]\n",
    "])\n",
    "print('T:')\n",
    "print(T)\n",
    "\n",
    "print('Controllable dimension:', 2)\n",
    "\n",
    "A_bar = np.linalg.inv(T) @ A @ T\n",
    "B_bar = np.linalg.inv(T) @ B\n",
    "\n",
    "print(\"A bar:\")\n",
    "print(A_bar)\n",
    "print(\"B bar:\")\n",
    "print(B_bar)\n",
    "\n",
    "\n",
    "A_bar_11 = A_bar[:2, :2]\n",
    "B_bar_1 = B_bar[:2, :2]\n",
    "\n",
    "print(\"A bar 11:\")\n",
    "print(A_bar_11)\n",
    "print(\"B bar 1:\")\n",
    "print(B_bar_1)\n",
    "\n",
    "x_hat_max = np.linalg.inv(T) @ np.array([[5], [3], [1]])\n",
    "print(\"x_hat_max:\")\n",
    "print(x_hat_max)\n",
    "\n",
    "x_hat_max = (1/(x_hat_max[:2])**2).flatten()\n",
    "\n",
    "Q = np.diag(x_hat_max)\n",
    "print(\"Q:\")\n",
    "print(Q)\n",
    "R = np.diag([1/(10**1), 1])\n",
    "\n",
    "K_bar = ct.lqr(A_bar_11, B_bar_1, Q, R)[0]\n",
    "print(\"K bar:\")\n",
    "print(K_bar)\n",
    "K = np.concatenate((K_bar, np.zeros((2,1))), axis=1) @ np.linalg.inv(T)\n",
    "print(\"K using decomp:\")\n",
    "print(K)\n",
    "\n",
    "print('Eigenvalues of A - BK:', np.linalg.eigvals(A - B @ K))\n",
    "\n"
   ]
  },
  {
   "cell_type": "markdown",
   "metadata": {},
   "source": [
    "## Finding Luenberger Matrix"
   ]
  },
  {
   "cell_type": "code",
   "execution_count": 11,
   "metadata": {},
   "outputs": [
    {
     "name": "stdout",
     "output_type": "stream",
     "text": [
      "Eigenvalues of A - LC: [ -5.0039984  -10.02568424  -3.07987914]\n",
      "L Matrix:\n",
      "[[-3.10487500e-17 -3.99840128e-03]\n",
      " [ 3.95972929e+01  2.98193676e-21]\n",
      " [ 1.71055634e+01  3.10487500e-19]]\n"
     ]
    }
   ],
   "source": [
    "Q = np.diag([1/5**2, 1/3**2, 1])\n",
    "R = np.diag([1/100, 1])\n",
    "L = np.transpose(ct.lqr(A.T, C.T, Q, R)[0])\n",
    "\n",
    "print('Eigenvalues of A - LC:', np.linalg.eigvals(A - L @ C))\n",
    "print('L Matrix:')\n",
    "print(L)"
   ]
  }
 ],
 "metadata": {
  "kernelspec": {
   "display_name": "Python 3",
   "language": "python",
   "name": "python3"
  },
  "language_info": {
   "codemirror_mode": {
    "name": "ipython",
    "version": 3
   },
   "file_extension": ".py",
   "mimetype": "text/x-python",
   "name": "python",
   "nbconvert_exporter": "python",
   "pygments_lexer": "ipython3",
   "version": "3.11.6"
  }
 },
 "nbformat": 4,
 "nbformat_minor": 2
}
